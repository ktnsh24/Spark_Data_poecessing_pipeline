{
 "cells": [
  {
   "cell_type": "code",
   "execution_count": null,
   "metadata": {},
   "outputs": [],
   "source": [
    "#https://sparkbyexamples.com/pyspark/pyspark-what-is-sparksession/\n",
    "import pyspark\n",
    "from pyspark.sql import SparkSession as ss\n",
    "import pyspark.sql.functions as F\n",
    "\n",
    "import pyspark.sql.types as T\n",
    "from pyspark.sql.functions import *\n",
    "import time\n",
    "\n",
    "spark = ss.builder.getOrCreate()"
   ]
  },
  {
   "cell_type": "code",
   "execution_count": null,
   "metadata": {},
   "outputs": [],
   "source": [
    "csv_location = \"users_app_big_dataset.csv\"  #Add your local path\n",
    "df = spark.read.csv(csv_location, header = True, inferSchema =True)"
   ]
  },
  {
   "cell_type": "code",
   "execution_count": null,
   "metadata": {},
   "outputs": [],
   "source": [
    "#df.columns\n",
    "df.printSchema()\n",
    "#Drop Nun rows\n",
    "df = df.na.drop()\n",
    "df.show(truncate = 5)"
   ]
  },
  {
   "cell_type": "code",
   "execution_count": null,
   "metadata": {},
   "outputs": [],
   "source": [
    "#remove unwanted characters and change data type\n",
    "df = df.withColumn(\"installs\", regexp_replace(col('installs'), \"[/,+]\", \"\"))\n",
    "df = df.withColumn('installs', df['installs'].cast(\"int\"))\n",
    "#df.show(truncate = 10)\n",
    "#df.printSchema()"
   ]
  },
  {
   "cell_type": "code",
   "execution_count": null,
   "metadata": {},
   "outputs": [],
   "source": [
    "#remove unwanted characters and change data type\n",
    "df = df.withColumn(\"price\", regexp_replace(col('price'), \"[$]\", \"\"))\n",
    "df = df.withColumn('price', df['price'].cast(\"float\"))\n",
    "#df.show(truncate = 10)"
   ]
  },
  {
   "cell_type": "code",
   "execution_count": null,
   "metadata": {},
   "outputs": [],
   "source": [
    "#remove unwanted characters and change data type\n",
    "df = df.withColumn(\"app_size\", regexp_replace(col('app_size'), \"M\", \"e+6\"))\n",
    "df = df.withColumn(\"app_size\", regexp_replace(col('app_size'), \"k\", \"e+3\"))\n",
    "df = df.withColumn(\"app_size\", regexp_replace(col('app_size'), \"Varies with device\", \"0\"))\n",
    "df = df.withColumn('app_size', df['app_size'].cast(\"float\"))\n",
    "df.show(truncate = 10)"
   ]
  },
  {
   "cell_type": "code",
   "execution_count": null,
   "metadata": {},
   "outputs": [],
   "source": [
    "#Timestamp String to DateType \n",
    "df = df.withColumn(\"last_updated\", regexp_replace(col('last_updated'), \"[/,+]\", \"\"))\n",
    "df = df.withColumn(\"last_updated\", regexp_replace(col('last_updated'), \"January\", \"1\")) \\\n",
    ".withColumn(\"last_updated\", regexp_replace(col('last_updated'), \"February\", \"2\")) \\\n",
    ".withColumn(\"last_updated\", regexp_replace(col('last_updated'), \"March\", \"3\")) \\\n",
    ".withColumn(\"last_updated\", regexp_replace(col('last_updated'), \"April\", \"4\")) \\\n",
    ".withColumn(\"last_updated\", regexp_replace(col('last_updated'), \"May\", \"5\")) \\\n",
    ".withColumn(\"last_updated\", regexp_replace(col('last_updated'), \"June\", \"6\")) \\\n",
    ".withColumn(\"last_updated\", regexp_replace(col('last_updated'), \"July\", \"7\")) \\\n",
    ".withColumn(\"last_updated\", regexp_replace(col('last_updated'), \"August\", \"8\")) \\\n",
    ".withColumn(\"last_updated\", regexp_replace(col('last_updated'), \"September\", \"9\")) \\\n",
    ".withColumn(\"last_updated\", regexp_replace(col('last_updated'), \"October\", \"10\")) \\\n",
    ".withColumn(\"last_updated\", regexp_replace(col('last_updated'), \"November\", \"11\")) \\\n",
    ".withColumn(\"last_updated\", regexp_replace(col('last_updated'), \"December\", \"12\"))\n",
    "df = df.withColumn(\"last_updated\",F.from_unixtime(F.unix_timestamp('last_updated', 'M d yyyy')))   \n",
    "df = df.withColumn(\"last_updated\",F.to_timestamp('last_updated'))\n",
    "df = df.withColumn(\"download_date\",F.to_timestamp(\"download_date\"))\n",
    "df.show(truncate = 10)"
   ]
  },
  {
   "cell_type": "code",
   "execution_count": null,
   "metadata": {},
   "outputs": [],
   "source": [
    "df.printSchema()"
   ]
  },
  {
   "cell_type": "code",
   "execution_count": null,
   "metadata": {},
   "outputs": [],
   "source": [
    "#Write/save as parquet file\n",
    "df.write.parquet(\"output/processeddf.parquet\")"
   ]
  },
  {
   "cell_type": "code",
   "execution_count": null,
   "metadata": {},
   "outputs": [],
   "source": [
    "#open parquet file\n",
    "import pandas as pd\n",
    "parq = pd.read_parquet('output/processeddf.parquet.parquet', engine='pyarrow')\n",
    "parq"
   ]
  },
  {
   "cell_type": "code",
   "execution_count": null,
   "metadata": {},
   "outputs": [],
   "source": []
  }
 ],
 "metadata": {
  "kernelspec": {
   "display_name": "Python 3",
   "language": "python",
   "name": "python3"
  },
  "language_info": {
   "codemirror_mode": {
    "name": "ipython",
    "version": 3
   },
   "file_extension": ".py",
   "mimetype": "text/x-python",
   "name": "python",
   "nbconvert_exporter": "python",
   "pygments_lexer": "ipython3",
   "version": "3.8.5"
  }
 },
 "nbformat": 4,
 "nbformat_minor": 4
}
